{
 "cells": [
  {
   "cell_type": "code",
   "execution_count": null,
   "id": "initial_id",
   "metadata": {
    "ExecuteTime": {
     "end_time": "2024-12-19T12:29:21.481012Z",
     "start_time": "2024-12-19T12:29:21.237532Z"
    },
    "collapsed": true
   },
   "outputs": [],
   "source": [
    "import pandas as pd\n",
    "\n",
    "books = pd.read_csv(\"books_with_categories.csv\")"
   ]
  },
  {
   "cell_type": "code",
   "execution_count": null,
   "id": "eef92ea3ccd87b03",
   "metadata": {
    "ExecuteTime": {
     "end_time": "2024-12-19T12:29:23.468616Z",
     "start_time": "2024-12-19T12:29:21.490078Z"
    }
   },
   "outputs": [],
   "source": [
    "from transformers import pipeline\n",
    "classifier = pipeline(\"text-classification\",\n",
    "                      model=\"j-hartmann/emotion-english-distilroberta-base\",\n",
    "                      top_k = None,\n",
    "                      device = \"mps\")\n",
    "classifier(\"I love this!\")"
   ]
  },
  {
   "cell_type": "code",
   "execution_count": null,
   "id": "3fd25cba6879daa8",
   "metadata": {
    "ExecuteTime": {
     "end_time": "2024-12-19T12:29:23.573572Z",
     "start_time": "2024-12-19T12:29:23.568257Z"
    }
   },
   "outputs": [],
   "source": [
    "books[\"description\"][0]"
   ]
  },
  {
   "cell_type": "code",
   "execution_count": null,
   "id": "26778388ee3d079d",
   "metadata": {
    "ExecuteTime": {
     "end_time": "2024-12-19T12:29:23.712905Z",
     "start_time": "2024-12-19T12:29:23.585890Z"
    }
   },
   "outputs": [],
   "source": [
    "classifier(books[\"description\"][0])"
   ]
  },
  {
   "cell_type": "code",
   "execution_count": null,
   "id": "2c5c26c8bfe955b0",
   "metadata": {
    "ExecuteTime": {
     "end_time": "2024-12-19T12:29:24.148990Z",
     "start_time": "2024-12-19T12:29:23.718044Z"
    }
   },
   "outputs": [],
   "source": [
    "classifier(books[\"description\"][0].split(\".\"))"
   ]
  },
  {
   "cell_type": "code",
   "execution_count": null,
   "id": "8e8cd3b1b76d9e2",
   "metadata": {
    "ExecuteTime": {
     "end_time": "2024-12-19T12:29:24.243754Z",
     "start_time": "2024-12-19T12:29:24.154029Z"
    }
   },
   "outputs": [],
   "source": [
    "sentences = books[\"description\"][0].split(\".\")\n",
    "predictions = classifier(sentences)"
   ]
  },
  {
   "cell_type": "code",
   "execution_count": null,
   "id": "425d9b0a53bfe3c6",
   "metadata": {
    "ExecuteTime": {
     "end_time": "2024-12-19T12:29:24.251068Z",
     "start_time": "2024-12-19T12:29:24.249034Z"
    }
   },
   "outputs": [],
   "source": [
    "sentences[0]"
   ]
  },
  {
   "cell_type": "code",
   "execution_count": null,
   "id": "896f9f0f2d3d8f2f",
   "metadata": {
    "ExecuteTime": {
     "end_time": "2024-12-19T12:29:24.258225Z",
     "start_time": "2024-12-19T12:29:24.256262Z"
    }
   },
   "outputs": [],
   "source": [
    "predictions[0]"
   ]
  },
  {
   "cell_type": "code",
   "execution_count": null,
   "id": "105f760b95916483",
   "metadata": {
    "ExecuteTime": {
     "end_time": "2024-12-19T12:29:24.376326Z",
     "start_time": "2024-12-19T12:29:24.374424Z"
    }
   },
   "outputs": [],
   "source": [
    "sentences[3]"
   ]
  },
  {
   "cell_type": "code",
   "execution_count": null,
   "id": "67d1162e9c12d789",
   "metadata": {
    "ExecuteTime": {
     "end_time": "2024-12-19T12:29:26.816408Z",
     "start_time": "2024-12-19T12:29:26.813852Z"
    }
   },
   "outputs": [],
   "source": [
    "predictions[3]"
   ]
  },
  {
   "cell_type": "code",
   "execution_count": null,
   "id": "d454e5691ccfb40e",
   "metadata": {
    "ExecuteTime": {
     "end_time": "2024-12-19T12:32:18.095726Z",
     "start_time": "2024-12-19T12:32:18.091592Z"
    }
   },
   "outputs": [],
   "source": [
    "predictions"
   ]
  },
  {
   "cell_type": "code",
   "execution_count": null,
   "id": "16a435fce5bae2e7",
   "metadata": {
    "ExecuteTime": {
     "end_time": "2024-12-19T12:32:50.357217Z",
     "start_time": "2024-12-19T12:32:50.355044Z"
    }
   },
   "outputs": [],
   "source": [
    "sorted(predictions[0], key=lambda x: x[\"label\"])"
   ]
  },
  {
   "cell_type": "code",
   "execution_count": null,
   "id": "9a79332958072c6f",
   "metadata": {
    "ExecuteTime": {
     "end_time": "2024-12-19T12:41:11.731210Z",
     "start_time": "2024-12-19T12:41:11.727719Z"
    }
   },
   "outputs": [],
   "source": [
    "import numpy as np\n",
    "\n",
    "emotion_labels = [\"anger\", \"disgust\", \"fear\", \"joy\", \"sadness\", \"surprise\", \"neutral\"]\n",
    "isbn = []\n",
    "emotion_scores = {label: [] for label in emotion_labels}\n",
    "\n",
    "def calculate_max_emotion_scores(predictions):\n",
    "    per_emotion_scores = {label: [] for label in emotion_labels}\n",
    "    for prediction in predictions:\n",
    "        sorted_predictions = sorted(prediction, key=lambda x: x[\"label\"])\n",
    "        for index, label in enumerate(emotion_labels):\n",
    "            per_emotion_scores[label].append(sorted_predictions[index][\"score\"])\n",
    "    return {label: np.max(scores) for label, scores in per_emotion_scores.items()}"
   ]
  },
  {
   "cell_type": "code",
   "execution_count": null,
   "id": "33a35cd7b4a90826",
   "metadata": {
    "ExecuteTime": {
     "end_time": "2024-12-19T12:42:34.418110Z",
     "start_time": "2024-12-19T12:42:32.443468Z"
    }
   },
   "outputs": [],
   "source": [
    "for i in range(10):\n",
    "    isbn.append(books[\"isbn13\"][i])\n",
    "    sentences = books[\"description\"][i].split(\".\")\n",
    "    predictions = classifier(sentences)\n",
    "    max_scores = calculate_max_emotion_scores(predictions)\n",
    "    for label in emotion_labels:\n",
    "        emotion_scores[label].append(max_scores[label])"
   ]
  },
  {
   "cell_type": "code",
   "execution_count": null,
   "id": "616839b4eb789732",
   "metadata": {
    "ExecuteTime": {
     "end_time": "2024-12-19T12:42:42.455617Z",
     "start_time": "2024-12-19T12:42:42.452515Z"
    }
   },
   "outputs": [],
   "source": [
    "emotion_scores"
   ]
  },
  {
   "cell_type": "code",
   "execution_count": null,
   "id": "82131382aa7f6c67",
   "metadata": {
    "ExecuteTime": {
     "end_time": "2024-12-19T12:54:13.981946Z",
     "start_time": "2024-12-19T12:44:26.497501Z"
    }
   },
   "outputs": [],
   "source": [
    "from tqdm import tqdm\n",
    "\n",
    "emotion_labels = [\"anger\", \"disgust\", \"fear\", \"joy\", \"sadness\", \"surprise\", \"neutral\"]\n",
    "isbn = []\n",
    "emotion_scores = {label: [] for label in emotion_labels}\n",
    "\n",
    "for i in tqdm(range(len(books))):\n",
    "    isbn.append(books[\"isbn13\"][i])\n",
    "    sentences = books[\"description\"][i].split(\".\")\n",
    "    predictions = classifier(sentences)\n",
    "    max_scores = calculate_max_emotion_scores(predictions)\n",
    "    for label in emotion_labels:\n",
    "        emotion_scores[label].append(max_scores[label])"
   ]
  },
  {
   "cell_type": "code",
   "execution_count": null,
   "id": "c052d474cf0c1c87",
   "metadata": {
    "ExecuteTime": {
     "end_time": "2024-12-19T12:57:42.942959Z",
     "start_time": "2024-12-19T12:57:42.930140Z"
    }
   },
   "outputs": [],
   "source": [
    "emotions_df = pd.DataFrame(emotion_scores)\n",
    "emotions_df[\"isbn13\"] = isbn"
   ]
  },
  {
   "cell_type": "code",
   "execution_count": null,
   "id": "13889fb9d6d49912",
   "metadata": {
    "ExecuteTime": {
     "end_time": "2024-12-19T12:57:47.977121Z",
     "start_time": "2024-12-19T12:57:47.970179Z"
    }
   },
   "outputs": [],
   "source": [
    "emotions_df"
   ]
  },
  {
   "cell_type": "code",
   "execution_count": null,
   "id": "d271f8b89e6c7f38",
   "metadata": {
    "ExecuteTime": {
     "end_time": "2024-12-19T12:59:16.242923Z",
     "start_time": "2024-12-19T12:59:16.238270Z"
    }
   },
   "outputs": [],
   "source": [
    "books = pd.merge(books, emotions_df, on = \"isbn13\")"
   ]
  },
  {
   "cell_type": "code",
   "execution_count": null,
   "id": "337ed4ed30a94c66",
   "metadata": {
    "ExecuteTime": {
     "end_time": "2024-12-19T12:59:18.230693Z",
     "start_time": "2024-12-19T12:59:18.221809Z"
    }
   },
   "outputs": [],
   "source": [
    "books"
   ]
  },
  {
   "cell_type": "code",
   "execution_count": null,
   "id": "27610ae3dbae074",
   "metadata": {
    "ExecuteTime": {
     "end_time": "2024-12-19T13:01:50.727604Z",
     "start_time": "2024-12-19T13:01:50.640657Z"
    }
   },
   "outputs": [],
   "source": [
    "books.to_csv(\"books_with_emotions.csv\", index = False)"
   ]
  }
 ],
 "metadata": {
  "kernelspec": {
   "display_name": "Python [conda env:base] *",
   "language": "python",
   "name": "conda-base-py"
  },
  "language_info": {
   "codemirror_mode": {
    "name": "ipython",
    "version": 3
   },
   "file_extension": ".py",
   "mimetype": "text/x-python",
   "name": "python",
   "nbconvert_exporter": "python",
   "pygments_lexer": "ipython3",
   "version": "3.13.5"
  }
 },
 "nbformat": 4,
 "nbformat_minor": 5
}
