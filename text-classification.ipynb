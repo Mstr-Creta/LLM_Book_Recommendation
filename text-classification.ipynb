{
 "cells": [
  {
   "cell_type": "code",
   "execution_count": null,
   "id": "initial_id",
   "metadata": {
    "ExecuteTime": {
     "end_time": "2024-12-18T15:59:20.204798Z",
     "start_time": "2024-12-18T15:59:19.962288Z"
    },
    "collapsed": true
   },
   "outputs": [],
   "source": [
    "import pandas as pd\n",
    "\n",
    "books = pd.read_csv(\"books_cleaned.csv\")"
   ]
  },
  {
   "cell_type": "code",
   "execution_count": null,
   "id": "ad2214ca5c824e59",
   "metadata": {
    "ExecuteTime": {
     "end_time": "2024-12-18T15:59:21.456204Z",
     "start_time": "2024-12-18T15:59:21.448423Z"
    }
   },
   "outputs": [],
   "source": [
    "books[\"categories\"].value_counts().reset_index()"
   ]
  },
  {
   "cell_type": "code",
   "execution_count": null,
   "id": "a07d62ea20b3d51f",
   "metadata": {
    "ExecuteTime": {
     "end_time": "2024-12-18T15:59:23.514830Z",
     "start_time": "2024-12-18T15:59:23.508154Z"
    }
   },
   "outputs": [],
   "source": [
    "books[\"categories\"].value_counts().reset_index().query(\"count > 50\")"
   ]
  },
  {
   "cell_type": "code",
   "execution_count": null,
   "id": "e76f43389f369fe1",
   "metadata": {
    "ExecuteTime": {
     "end_time": "2024-12-18T15:59:25.682749Z",
     "start_time": "2024-12-18T15:59:25.673769Z"
    }
   },
   "outputs": [],
   "source": [
    "books[books[\"categories\"] == \"Juvenile Fiction\"]"
   ]
  },
  {
   "cell_type": "code",
   "execution_count": null,
   "id": "81fe0176b104cda9",
   "metadata": {
    "ExecuteTime": {
     "end_time": "2024-12-18T15:59:27.960231Z",
     "start_time": "2024-12-18T15:59:27.941971Z"
    }
   },
   "outputs": [],
   "source": [
    "books[books[\"categories\"] == \"Juvenile Nonfiction\"]"
   ]
  },
  {
   "cell_type": "code",
   "execution_count": null,
   "id": "fcccab946dc6acf1",
   "metadata": {
    "ExecuteTime": {
     "end_time": "2024-12-18T15:59:30.210115Z",
     "start_time": "2024-12-18T15:59:30.206598Z"
    }
   },
   "outputs": [],
   "source": [
    "category_mapping = {'Fiction' : \"Fiction\",\n",
    " 'Juvenile Fiction': \"Children's Fiction\",\n",
    " 'Biography & Autobiography': \"Nonfiction\",\n",
    " 'History': \"Nonfiction\",\n",
    " 'Literary Criticism': \"Nonfiction\",\n",
    " 'Philosophy': \"Nonfiction\",\n",
    " 'Religion': \"Nonfiction\",\n",
    " 'Comics & Graphic Novels': \"Fiction\",\n",
    " 'Drama': \"Fiction\",\n",
    " 'Juvenile Nonfiction': \"Children's Nonfiction\",\n",
    " 'Science': \"Nonfiction\",\n",
    " 'Poetry': \"Fiction\"}\n",
    "\n",
    "books[\"simple_categories\"] = books[\"categories\"].map(category_mapping)"
   ]
  },
  {
   "cell_type": "code",
   "execution_count": null,
   "id": "abd212b2ffdcb983",
   "metadata": {
    "ExecuteTime": {
     "end_time": "2024-12-18T15:59:32.486984Z",
     "start_time": "2024-12-18T15:59:32.478432Z"
    }
   },
   "outputs": [],
   "source": [
    "books"
   ]
  },
  {
   "cell_type": "code",
   "execution_count": null,
   "id": "72a23d51bcbc3144",
   "metadata": {
    "ExecuteTime": {
     "end_time": "2024-12-18T15:59:35.683192Z",
     "start_time": "2024-12-18T15:59:35.672963Z"
    }
   },
   "outputs": [],
   "source": [
    "books[~(books[\"simple_categories\"].isna())]"
   ]
  },
  {
   "cell_type": "code",
   "execution_count": null,
   "id": "5717b1b3f5008392",
   "metadata": {
    "ExecuteTime": {
     "end_time": "2024-12-18T16:00:47.996500Z",
     "start_time": "2024-12-18T16:00:39.834950Z"
    }
   },
   "outputs": [],
   "source": [
    "from transformers import pipeline\n",
    "\n",
    "fiction_categories = [\"Fiction\", \"Nonfiction\"]\n",
    "\n",
    "pipe = pipeline(\"zero-shot-classification\",\n",
    "                model=\"facebook/bart-large-mnli\",\n",
    "                device=\"mps\")\n"
   ]
  },
  {
   "cell_type": "code",
   "execution_count": null,
   "id": "264955275bb863cc",
   "metadata": {
    "ExecuteTime": {
     "end_time": "2024-12-19T08:45:23.188210Z",
     "start_time": "2024-12-19T08:45:23.185153Z"
    }
   },
   "outputs": [],
   "source": [
    "sequence = books.loc[books[\"simple_categories\"] == \"Fiction\", \"description\"].reset_index(drop=True)[0]"
   ]
  },
  {
   "cell_type": "code",
   "execution_count": null,
   "id": "1fcfadda6deeaf8a",
   "metadata": {
    "ExecuteTime": {
     "end_time": "2024-12-19T08:46:50.472049Z",
     "start_time": "2024-12-19T08:46:50.120552Z"
    }
   },
   "outputs": [],
   "source": [
    "pipe(sequence, fiction_categories)"
   ]
  },
  {
   "cell_type": "code",
   "execution_count": null,
   "id": "7db593c8c8658762",
   "metadata": {
    "ExecuteTime": {
     "end_time": "2024-12-19T08:48:34.899246Z",
     "start_time": "2024-12-19T08:48:34.668296Z"
    }
   },
   "outputs": [],
   "source": [
    "import numpy as np\n",
    "\n",
    "max_index = np.argmax(pipe(sequence, fiction_categories)[\"scores\"])\n",
    "max_label = pipe(sequence, fiction_categories)[\"labels\"][max_index]\n",
    "max_label"
   ]
  },
  {
   "cell_type": "code",
   "execution_count": null,
   "id": "78b5bf4bf4a74fda",
   "metadata": {
    "ExecuteTime": {
     "end_time": "2024-12-19T08:50:12.761431Z",
     "start_time": "2024-12-19T08:50:12.759289Z"
    }
   },
   "outputs": [],
   "source": [
    "def generate_predictions(sequence, categories):\n",
    "    predictions = pipe(sequence, categories)\n",
    "    max_index = np.argmax(predictions[\"scores\"])\n",
    "    max_label = predictions[\"labels\"][max_index]\n",
    "    return max_label"
   ]
  },
  {
   "cell_type": "code",
   "execution_count": null,
   "id": "1d1593f7feefdb08",
   "metadata": {
    "ExecuteTime": {
     "end_time": "2024-12-19T08:54:02.840824Z",
     "start_time": "2024-12-19T08:53:17.030562Z"
    }
   },
   "outputs": [],
   "source": [
    "from tqdm import tqdm\n",
    "\n",
    "actual_cats = []\n",
    "predicted_cats = []\n",
    "\n",
    "for i in tqdm(range(0, 300)):\n",
    "    sequence = books.loc[books[\"simple_categories\"] == \"Fiction\", \"description\"].reset_index(drop=True)[i]\n",
    "    predicted_cats += [generate_predictions(sequence, fiction_categories)]\n",
    "    actual_cats += [\"Fiction\"]"
   ]
  },
  {
   "cell_type": "code",
   "execution_count": null,
   "id": "184b55f4d97e9920",
   "metadata": {
    "ExecuteTime": {
     "end_time": "2024-12-19T08:54:54.859983Z",
     "start_time": "2024-12-19T08:54:05.321109Z"
    }
   },
   "outputs": [],
   "source": [
    "for i in tqdm(range(0, 300)):\n",
    "    sequence = books.loc[books[\"simple_categories\"] == \"Nonfiction\", \"description\"].reset_index(drop=True)[i]\n",
    "    predicted_cats += [generate_predictions(sequence, fiction_categories)]\n",
    "    actual_cats += [\"Nonfiction\"]"
   ]
  },
  {
   "cell_type": "code",
   "execution_count": null,
   "id": "bbddf92b0bb24cc8",
   "metadata": {
    "ExecuteTime": {
     "end_time": "2024-12-19T08:56:56.620378Z",
     "start_time": "2024-12-19T08:56:56.617933Z"
    }
   },
   "outputs": [],
   "source": [
    "predictions_df = pd.DataFrame({\"actual_categories\": actual_cats, \"predicted_categories\": predicted_cats})"
   ]
  },
  {
   "cell_type": "code",
   "execution_count": null,
   "id": "aaa8844d7fdbc56",
   "metadata": {
    "ExecuteTime": {
     "end_time": "2024-12-19T08:57:02.904908Z",
     "start_time": "2024-12-19T08:57:02.901713Z"
    }
   },
   "outputs": [],
   "source": [
    "predictions_df"
   ]
  },
  {
   "cell_type": "code",
   "execution_count": null,
   "id": "ac6ddf718f0655e8",
   "metadata": {
    "ExecuteTime": {
     "end_time": "2024-12-19T08:58:44.314170Z",
     "start_time": "2024-12-19T08:58:44.311754Z"
    }
   },
   "outputs": [],
   "source": [
    "predictions_df[\"correct_prediction\"] = (\n",
    "    np.where(predictions_df[\"actual_categories\"] == predictions_df[\"predicted_categories\"], 1, 0)\n",
    ")"
   ]
  },
  {
   "cell_type": "code",
   "execution_count": null,
   "id": "39ebc8cbf5ee1479",
   "metadata": {
    "ExecuteTime": {
     "end_time": "2024-12-19T08:58:51.653582Z",
     "start_time": "2024-12-19T08:58:51.650714Z"
    }
   },
   "outputs": [],
   "source": [
    "predictions_df[\"correct_prediction\"].sum() / len(predictions_df)"
   ]
  },
  {
   "cell_type": "code",
   "execution_count": null,
   "id": "140bb061a604a0dd",
   "metadata": {
    "ExecuteTime": {
     "end_time": "2024-12-19T09:01:11.130789Z",
     "start_time": "2024-12-19T09:01:11.127407Z"
    }
   },
   "outputs": [],
   "source": [
    "isbns = []\n",
    "predicted_cats = []\n",
    "\n",
    "missing_cats = books.loc[books[\"simple_categories\"].isna(), [\"isbn13\", \"description\"]].reset_index(drop=True)"
   ]
  },
  {
   "cell_type": "code",
   "execution_count": null,
   "id": "c0e0a92239bf2107",
   "metadata": {
    "ExecuteTime": {
     "end_time": "2024-12-19T09:03:50.279527Z",
     "start_time": "2024-12-19T09:01:57.171556Z"
    }
   },
   "outputs": [],
   "source": [
    "for i in tqdm(range(0, len(missing_cats))):\n",
    "    sequence = missing_cats[\"description\"][i]\n",
    "    predicted_cats += [generate_predictions(sequence, fiction_categories)]\n",
    "    isbns += [missing_cats[\"isbn13\"][i]]"
   ]
  },
  {
   "cell_type": "code",
   "execution_count": null,
   "id": "c37c1185dab11cd8",
   "metadata": {
    "ExecuteTime": {
     "end_time": "2024-12-19T09:05:13.030827Z",
     "start_time": "2024-12-19T09:05:13.026865Z"
    }
   },
   "outputs": [],
   "source": [
    "missing_predicted_df = pd.DataFrame({\"isbn13\": isbns, \"predicted_categories\": predicted_cats})"
   ]
  },
  {
   "cell_type": "code",
   "execution_count": null,
   "id": "3c2bdc57ab262926",
   "metadata": {
    "ExecuteTime": {
     "end_time": "2024-12-19T09:05:15.748531Z",
     "start_time": "2024-12-19T09:05:15.744154Z"
    }
   },
   "outputs": [],
   "source": [
    "missing_predicted_df"
   ]
  },
  {
   "cell_type": "code",
   "execution_count": null,
   "id": "450b45dc6503a961",
   "metadata": {
    "ExecuteTime": {
     "end_time": "2024-12-19T09:07:30.513374Z",
     "start_time": "2024-12-19T09:07:30.506753Z"
    }
   },
   "outputs": [],
   "source": [
    "books = pd.merge(books, missing_predicted_df, on=\"isbn13\", how=\"left\")\n",
    "books[\"simple_categories\"] = np.where(books[\"simple_categories\"].isna(), books[\"predicted_categories\"], books[\"simple_categories\"])\n",
    "books = books.drop(columns = [\"predicted_categories\"])"
   ]
  },
  {
   "cell_type": "code",
   "execution_count": null,
   "id": "2ed39d316f24b506",
   "metadata": {
    "ExecuteTime": {
     "end_time": "2024-12-19T09:15:00.616480Z",
     "start_time": "2024-12-19T09:15:00.608710Z"
    }
   },
   "outputs": [],
   "source": [
    "books"
   ]
  },
  {
   "cell_type": "code",
   "execution_count": null,
   "id": "6a58208b3327eed3",
   "metadata": {
    "ExecuteTime": {
     "end_time": "2024-12-19T09:17:26.600489Z",
     "start_time": "2024-12-19T09:17:26.589851Z"
    }
   },
   "outputs": [],
   "source": [
    "books[books[\"categories\"].str.lower().isin([\n",
    "    \"romance\",\n",
    "    \"science fiction\",\n",
    "    \"scifi\",\n",
    "    \"fantasy\",\n",
    "    \"horror\",\n",
    "    \"mystery\",\n",
    "    \"thriller\",\n",
    "    \"comedy\",\n",
    "    \"crime\",\n",
    "    \"historical\"\n",
    "])]"
   ]
  },
  {
   "cell_type": "code",
   "execution_count": null,
   "id": "5fba504bb7d6e93d",
   "metadata": {
    "ExecuteTime": {
     "end_time": "2024-12-19T10:00:38.506659Z",
     "start_time": "2024-12-19T10:00:38.438623Z"
    }
   },
   "outputs": [],
   "source": [
    "books.to_csv(\"books_with_categories.csv\", index=False)"
   ]
  }
 ],
 "metadata": {
  "kernelspec": {
   "display_name": "Python [conda env:base] *",
   "language": "python",
   "name": "conda-base-py"
  },
  "language_info": {
   "codemirror_mode": {
    "name": "ipython",
    "version": 3
   },
   "file_extension": ".py",
   "mimetype": "text/x-python",
   "name": "python",
   "nbconvert_exporter": "python",
   "pygments_lexer": "ipython3",
   "version": "3.13.5"
  }
 },
 "nbformat": 4,
 "nbformat_minor": 5
}
